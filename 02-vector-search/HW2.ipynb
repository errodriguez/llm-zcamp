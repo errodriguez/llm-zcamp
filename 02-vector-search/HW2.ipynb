{
 "cells": [
  {
   "cell_type": "markdown",
   "id": "0663d0fd-5671-4669-b032-d8b8d030b4ac",
   "metadata": {},
   "source": [
    "## Homework: Vector Search\n",
    "\n",
    "In this homework, we will learn more about vector search\n",
    "and embedding. Like in the module, we will use Qdrant and\n",
    "fastembed\n",
    "\n",
    "> It's possible that your answers won't match exactly. If it's the case, select the closest one.\n",
    "\n",
    "Note: if you want to learn how vector search works under\n",
    "the hood, check \n",
    "[homework 3 from 2024 cohort (questions 1-4)](../../2024/03-vector-search/homework.md)\n",
    "\n",
    "## Embeddings\n",
    "\n",
    "Qdrant uses [fastembed](https://github.com/qdrant/fastembed)\n",
    "under the hood to turn text into vectors. \n",
    "\n",
    "We will now explore this library\n",
    "\n",
    "Make sure it's installed:\n",
    "\n",
    "```bash\n",
    "pip install fastembed\n",
    "```\n",
    "\n",
    "Import it: \n",
    "\n",
    "```python\n",
    "from fastembed import TextEmbedding\n",
    "```"
   ]
  },
  {
   "cell_type": "markdown",
   "id": "29d1744f-213b-4377-af7a-51098b8df561",
   "metadata": {},
   "source": [
    "\n",
    "## Q1. Embedding the query\n",
    "\n",
    "Embed the query: `'I just discovered the course. Can I join now?'`.\n",
    "Use the `'jinaai/jina-embeddings-v2-small-en'` model. \n",
    "\n",
    "You should get a numpy array of size 512."
   ]
  },
  {
   "cell_type": "code",
   "execution_count": 10,
   "id": "5252cc47-c15f-47b7-ad39-b7cc73ea7912",
   "metadata": {
    "execution": {
     "iopub.execute_input": "2025-06-30T19:49:41.159074Z",
     "iopub.status.busy": "2025-06-30T19:49:41.158658Z",
     "iopub.status.idle": "2025-06-30T19:49:41.163262Z",
     "shell.execute_reply": "2025-06-30T19:49:41.162447Z",
     "shell.execute_reply.started": "2025-06-30T19:49:41.159048Z"
    }
   },
   "outputs": [],
   "source": [
    "from fastembed import TextEmbedding"
   ]
  },
  {
   "cell_type": "code",
   "execution_count": 11,
   "id": "55325910-2e39-48d1-a716-80b91719c2ad",
   "metadata": {
    "execution": {
     "iopub.execute_input": "2025-06-30T19:49:42.259616Z",
     "iopub.status.busy": "2025-06-30T19:49:42.259190Z",
     "iopub.status.idle": "2025-06-30T19:49:43.092469Z",
     "shell.execute_reply": "2025-06-30T19:49:43.092056Z",
     "shell.execute_reply.started": "2025-06-30T19:49:42.259590Z"
    }
   },
   "outputs": [],
   "source": [
    "model = \"jinaai/jina-embeddings-v2-small-en\"\n",
    "embed_model = TextEmbedding(model_name=model)\n",
    "query_text = \"I just discovered the course. Can I join now?\"\n",
    "embedding = next(embed_model.embed([query_text]))"
   ]
  },
  {
   "cell_type": "code",
   "execution_count": 15,
   "id": "d8151d22-8f3a-4f01-9c59-0320afcb4327",
   "metadata": {
    "execution": {
     "iopub.execute_input": "2025-06-30T19:51:46.962260Z",
     "iopub.status.busy": "2025-06-30T19:51:46.961896Z",
     "iopub.status.idle": "2025-06-30T19:51:46.966175Z",
     "shell.execute_reply": "2025-06-30T19:51:46.965553Z",
     "shell.execute_reply.started": "2025-06-30T19:51:46.962237Z"
    }
   },
   "outputs": [
    {
     "name": "stdout",
     "output_type": "stream",
     "text": [
      "Embedding dimension: 512\n",
      "-0.11726373551188797\n"
     ]
    }
   ],
   "source": [
    "print(f\"Embedding dimension: {len(embedding)}\")\n",
    "print(min(embedding))"
   ]
  },
  {
   "cell_type": "markdown",
   "id": "22acc4c8-483a-485b-8a20-522ef7d3442f",
   "metadata": {},
   "source": [
    "What's the minimal value in this array?\n",
    "\n",
    "* -0.51\n",
    "* -0.11   <--\n",
    "* 0\n",
    "* 0.51"
   ]
  },
  {
   "cell_type": "markdown",
   "id": "f8b5f4b6-5954-4bd0-a33a-fac899b63ff9",
   "metadata": {},
   "source": [
    "## Q2. Cosine similarity with another vector\n",
    "\n",
    "Now let's embed this document:\n",
    "\n",
    "```python\n",
    "doc = 'Can I still join the course after the start date?'\n",
    "```"
   ]
  },
  {
   "cell_type": "code",
   "execution_count": 20,
   "id": "45c859d7-86f2-4e48-8c2c-7cc300aa5ab4",
   "metadata": {
    "execution": {
     "iopub.execute_input": "2025-06-30T20:01:24.525808Z",
     "iopub.status.busy": "2025-06-30T20:01:24.525466Z",
     "iopub.status.idle": "2025-06-30T20:01:24.540857Z",
     "shell.execute_reply": "2025-06-30T20:01:24.539949Z",
     "shell.execute_reply.started": "2025-06-30T20:01:24.525785Z"
    }
   },
   "outputs": [],
   "source": [
    "import numpy as np\n",
    "\n",
    "doc = \"Can I still join the course after the start date?\"\n",
    "doc_embedding = next(embed_model.embed([doc]))"
   ]
  },
  {
   "cell_type": "markdown",
   "id": "12bccc01-58f4-4ecc-b4d0-6c3d42915281",
   "metadata": {},
   "source": [
    "What's the cosine similarity between the vector for the query\n",
    "and the vector for the document?\n",
    "\n",
    "* 0.3\n",
    "* 0.5\n",
    "* 0.7\n",
    "* 0.9   <--"
   ]
  },
  {
   "cell_type": "code",
   "execution_count": 21,
   "id": "374bdcad-f47d-497d-bacc-d63a15c7cbc5",
   "metadata": {
    "execution": {
     "iopub.execute_input": "2025-06-30T20:01:25.657120Z",
     "iopub.status.busy": "2025-06-30T20:01:25.656486Z",
     "iopub.status.idle": "2025-06-30T20:01:25.662089Z",
     "shell.execute_reply": "2025-06-30T20:01:25.661428Z",
     "shell.execute_reply.started": "2025-06-30T20:01:25.657083Z"
    }
   },
   "outputs": [
    {
     "name": "stdout",
     "output_type": "stream",
     "text": [
      "Cosine Similarity: 0.9009\n"
     ]
    }
   ],
   "source": [
    "query_vec = np.array(embedding)\n",
    "doc_vec = np.array(doc_embedding)\n",
    "\n",
    "cos_sim = np.dot(query_vec, doc_vec) / (np.linalg.norm(query_vec) * np.linalg.norm(doc_vec))\n",
    "print(f\"Cosine Similarity: {cos_sim:.4f}\")"
   ]
  },
  {
   "cell_type": "markdown",
   "id": "2ba7a3d5-3a6e-4f7f-82e0-6029ccb581a9",
   "metadata": {},
   "source": [
    "\n",
    "## Q3. Ranking by cosine\n",
    "\n",
    "For Q3 and Q4 we will use these documents:\n",
    "\n",
    "```python\n",
    "documents = [{'text': \"Yes, even if you don't register, you're still eligible to submit the homeworks.\\nBe aware, however, that there will be deadlines for turning in the final projects. So don't leave everything for the last minute.\",\n",
    "  'section': 'General course-related questions',\n",
    "  'question': 'Course - Can I still join the course after the start date?',\n",
    "  'course': 'data-engineering-zoomcamp'},\n",
    " {'text': 'Yes, we will keep all the materials after the course finishes, so you can follow the course at your own pace after it finishes.\\nYou can also continue looking at the homeworks and continue preparing for the next cohort. I guess you can also start working on your final capstone project.',\n",
    "  'section': 'General course-related questions',\n",
    "  'question': 'Course - Can I follow the course after it finishes?',\n",
    "  'course': 'data-engineering-zoomcamp'},\n",
    " {'text': \"The purpose of this document is to capture frequently asked technical questions\\nThe exact day and hour of the course will be 15th Jan 2024 at 17h00. The course will start with the first  “Office Hours'' live.1\\nSubscribe to course public Google Calendar (it works from Desktop only).\\nRegister before the course starts using this link.\\nJoin the course Telegram channel with announcements.\\nDon’t forget to register in DataTalks.Club's Slack and join the channel.\",\n",
    "  'section': 'General course-related questions',\n",
    "  'question': 'Course - When will the course start?',\n",
    "  'course': 'data-engineering-zoomcamp'},\n",
    " {'text': 'You can start by installing and setting up all the dependencies and requirements:\\nGoogle cloud account\\nGoogle Cloud SDK\\nPython 3 (installed with Anaconda)\\nTerraform\\nGit\\nLook over the prerequisites and syllabus to see if you are comfortable with these subjects.',\n",
    "  'section': 'General course-related questions',\n",
    "  'question': 'Course - What can I do before the course starts?',\n",
    "  'course': 'data-engineering-zoomcamp'},\n",
    " {'text': 'Star the repo! Share it with friends if you find it useful ❣️\\nCreate a PR if you see you can improve the text or the structure of the repository.',\n",
    "  'section': 'General course-related questions',\n",
    "  'question': 'How can we contribute to the course?',\n",
    "  'course': 'data-engineering-zoomcamp'}]\n",
    "```\n",
    "\n",
    "Compute the embeddings for the text field, and compute the \n",
    "cosine between the query vector and all the documents."
   ]
  },
  {
   "cell_type": "code",
   "execution_count": 22,
   "id": "47e1e0f4-3333-47b4-b2bb-0155e831bba4",
   "metadata": {
    "execution": {
     "iopub.execute_input": "2025-06-30T21:20:49.251725Z",
     "iopub.status.busy": "2025-06-30T21:20:49.250554Z",
     "iopub.status.idle": "2025-06-30T21:20:49.264139Z",
     "shell.execute_reply": "2025-06-30T21:20:49.263285Z",
     "shell.execute_reply.started": "2025-06-30T21:20:49.251674Z"
    }
   },
   "outputs": [],
   "source": [
    "documents = [{'text': \"Yes, even if you don't register, you're still eligible to submit the homeworks.\\nBe aware, however, that there will be deadlines for turning in the final projects. So don't leave everything for the last minute.\",\n",
    "  'section': 'General course-related questions',\n",
    "  'question': 'Course - Can I still join the course after the start date?',\n",
    "  'course': 'data-engineering-zoomcamp'},\n",
    " {'text': 'Yes, we will keep all the materials after the course finishes, so you can follow the course at your own pace after it finishes.\\nYou can also continue looking at the homeworks and continue preparing for the next cohort. I guess you can also start working on your final capstone project.',\n",
    "  'section': 'General course-related questions',\n",
    "  'question': 'Course - Can I follow the course after it finishes?',\n",
    "  'course': 'data-engineering-zoomcamp'},\n",
    " {'text': \"The purpose of this document is to capture frequently asked technical questions\\nThe exact day and hour of the course will be 15th Jan 2024 at 17h00. The course will start with the first  “Office Hours'' live.1\\nSubscribe to course public Google Calendar (it works from Desktop only).\\nRegister before the course starts using this link.\\nJoin the course Telegram channel with announcements.\\nDon’t forget to register in DataTalks.Club's Slack and join the channel.\",\n",
    "  'section': 'General course-related questions',\n",
    "  'question': 'Course - When will the course start?',\n",
    "  'course': 'data-engineering-zoomcamp'},\n",
    " {'text': 'You can start by installing and setting up all the dependencies and requirements:\\nGoogle cloud account\\nGoogle Cloud SDK\\nPython 3 (installed with Anaconda)\\nTerraform\\nGit\\nLook over the prerequisites and syllabus to see if you are comfortable with these subjects.',\n",
    "  'section': 'General course-related questions',\n",
    "  'question': 'Course - What can I do before the course starts?',\n",
    "  'course': 'data-engineering-zoomcamp'},\n",
    " {'text': 'Star the repo! Share it with friends if you find it useful ❣️\\nCreate a PR if you see you can improve the text or the structure of the repository.',\n",
    "  'section': 'General course-related questions',\n",
    "  'question': 'How can we contribute to the course?',\n",
    "  'course': 'data-engineering-zoomcamp'}]"
   ]
  },
  {
   "cell_type": "code",
   "execution_count": 23,
   "id": "f1e2fe0c-2f60-4129-9417-7b726acce3b9",
   "metadata": {
    "execution": {
     "iopub.execute_input": "2025-06-30T21:21:06.389184Z",
     "iopub.status.busy": "2025-06-30T21:21:06.388767Z",
     "iopub.status.idle": "2025-06-30T21:21:06.439403Z",
     "shell.execute_reply": "2025-06-30T21:21:06.438932Z",
     "shell.execute_reply.started": "2025-06-30T21:21:06.389156Z"
    }
   },
   "outputs": [],
   "source": [
    "query_text = \"I just discovered the course. Can I join now?\"\n",
    "embedding = next(embed_model.embed([query_text]))  # query vector"
   ]
  },
  {
   "cell_type": "code",
   "execution_count": 24,
   "id": "fdca621f-2e62-4af6-b253-d8574240eb61",
   "metadata": {
    "execution": {
     "iopub.execute_input": "2025-06-30T21:21:27.708587Z",
     "iopub.status.busy": "2025-06-30T21:21:27.708214Z",
     "iopub.status.idle": "2025-06-30T21:21:27.855557Z",
     "shell.execute_reply": "2025-06-30T21:21:27.855238Z",
     "shell.execute_reply.started": "2025-06-30T21:21:27.708565Z"
    }
   },
   "outputs": [],
   "source": [
    "query_vec = np.array(embedding)\n",
    "\n",
    "results = []\n",
    "\n",
    "for doc in documents:\n",
    "    doc_vec = next(embed_model.embed([doc['text']]))\n",
    "    doc_vec = np.array(doc_vec)\n",
    "    \n",
    "    # Cosine similarity\n",
    "    cos_sim = np.dot(query_vec, doc_vec) / (np.linalg.norm(query_vec) * np.linalg.norm(doc_vec))\n",
    "    \n",
    "    results.append({\n",
    "        'question': doc['question'],\n",
    "        'similarity': cos_sim\n",
    "    })\n"
   ]
  },
  {
   "cell_type": "code",
   "execution_count": 25,
   "id": "962aa469-7277-4f46-b6d6-d0d9abe655eb",
   "metadata": {
    "execution": {
     "iopub.execute_input": "2025-06-30T21:21:45.645528Z",
     "iopub.status.busy": "2025-06-30T21:21:45.644973Z",
     "iopub.status.idle": "2025-06-30T21:21:45.651193Z",
     "shell.execute_reply": "2025-06-30T21:21:45.650399Z",
     "shell.execute_reply.started": "2025-06-30T21:21:45.645493Z"
    }
   },
   "outputs": [
    {
     "name": "stdout",
     "output_type": "stream",
     "text": [
      "Similarity: 0.8182 | Question: Course - Can I follow the course after it finishes?\n",
      "Similarity: 0.8085 | Question: Course - When will the course start?\n",
      "Similarity: 0.7630 | Question: Course - Can I still join the course after the start date?\n",
      "Similarity: 0.7304 | Question: How can we contribute to the course?\n",
      "Similarity: 0.7133 | Question: Course - What can I do before the course starts?\n"
     ]
    }
   ],
   "source": [
    "sorted_results = sorted(results, key=lambda x: x['similarity'], reverse=True)\n",
    "\n",
    "for res in sorted_results:\n",
    "    print(f\"Similarity: {res['similarity']:.4f} | Question: {res['question']}\")"
   ]
  },
  {
   "cell_type": "code",
   "execution_count": 26,
   "id": "7c4d24d1-f9c9-41f2-824b-3dcc72ab4ab8",
   "metadata": {
    "execution": {
     "iopub.execute_input": "2025-06-30T21:23:33.459264Z",
     "iopub.status.busy": "2025-06-30T21:23:33.458905Z",
     "iopub.status.idle": "2025-06-30T21:23:33.575329Z",
     "shell.execute_reply": "2025-06-30T21:23:33.574751Z",
     "shell.execute_reply.started": "2025-06-30T21:23:33.459239Z"
    }
   },
   "outputs": [
    {
     "name": "stdout",
     "output_type": "stream",
     "text": [
      "Most similar document index: 1\n",
      "Cosine similarity: 0.8182\n"
     ]
    }
   ],
   "source": [
    "best_index = -1\n",
    "best_similarity = -1.0\n",
    "\n",
    "for i, doc in enumerate(documents):\n",
    "    doc_vec = next(embed_model.embed([doc['text']]))\n",
    "    doc_vec = np.array(doc_vec)\n",
    "    \n",
    "    cos_sim = np.dot(query_vec, doc_vec) / (np.linalg.norm(query_vec) * np.linalg.norm(doc_vec))\n",
    "    \n",
    "    if cos_sim > best_similarity:\n",
    "        best_similarity = cos_sim\n",
    "        best_index = i\n",
    "\n",
    "print(f\"Most similar document index: {best_index}\")\n",
    "print(f\"Cosine similarity: {best_similarity:.4f}\")"
   ]
  },
  {
   "cell_type": "markdown",
   "id": "359ec4c2-8009-4b73-baa3-22997d0c4e82",
   "metadata": {},
   "source": [
    "What's the document index with the highest similarity? (Indexing starts from 0):\n",
    "\n",
    "- 0\n",
    "- 1 <--\n",
    "- 2\n",
    "- 3\n",
    "- 4\n",
    "\n",
    "Hint: if you put all the embeddings of the text field in one matrix `V` (a single 2-dimensional numpy array), then\n",
    "computing the cosine becomes a matrix multiplication:\n",
    "\n",
    "```python\n",
    "V.dot(q)\n",
    "```\n",
    "\n",
    "If this hint is rather confusing you than helping, feel free\n",
    "to ignore it."
   ]
  },
  {
   "cell_type": "markdown",
   "id": "84e98d9f-b44c-4d6f-a12b-17206143c8a8",
   "metadata": {},
   "source": [
    "## Q4. Ranking by cosine, version two\n",
    "\n",
    "Now let's calculate a new field, which is a concatenation of\n",
    "`question` and `text`:\n",
    "\n",
    "```python\n",
    "full_text = doc['question'] + ' ' + doc['text']\n",
    "``` \n",
    "\n",
    "Embed this field and compute the cosine between it and the\n",
    "query vector. What's the highest scoring document?\n",
    "\n",
    "- 0  <--\n",
    "- 1\n",
    "- 2\n",
    "- 3\n",
    "- 4"
   ]
  },
  {
   "cell_type": "code",
   "execution_count": 27,
   "id": "703ea5a9-9c78-4062-817b-497448f1c768",
   "metadata": {
    "execution": {
     "iopub.execute_input": "2025-06-30T21:25:49.101990Z",
     "iopub.status.busy": "2025-06-30T21:25:49.101632Z",
     "iopub.status.idle": "2025-06-30T21:25:49.223393Z",
     "shell.execute_reply": "2025-06-30T21:25:49.222814Z",
     "shell.execute_reply.started": "2025-06-30T21:25:49.101967Z"
    }
   },
   "outputs": [
    {
     "name": "stdout",
     "output_type": "stream",
     "text": [
      "Most similar document index (using full_text): 0\n",
      "Cosine similarity: 0.8515\n"
     ]
    }
   ],
   "source": [
    "best_index = -1\n",
    "best_similarity = -1.0\n",
    "\n",
    "for i, doc in enumerate(documents):\n",
    "    full_text = doc['question'] + ' ' + doc['text']\n",
    "    full_vec = next(embed_model.embed([full_text]))\n",
    "    full_vec = np.array(full_vec)\n",
    "    \n",
    "    cos_sim = np.dot(query_vec, full_vec) / (np.linalg.norm(query_vec) * np.linalg.norm(full_vec))\n",
    "    \n",
    "    if cos_sim > best_similarity:\n",
    "        best_similarity = cos_sim\n",
    "        best_index = i\n",
    "\n",
    "print(f\"Most similar document index (using full_text): {best_index}\")\n",
    "print(f\"Cosine similarity: {best_similarity:.4f}\")"
   ]
  },
  {
   "cell_type": "markdown",
   "id": "25523631-1578-40ab-a50a-fbda6afad0a0",
   "metadata": {
    "execution": {
     "iopub.execute_input": "2025-06-30T21:27:25.282475Z",
     "iopub.status.busy": "2025-06-30T21:27:25.282104Z",
     "iopub.status.idle": "2025-06-30T21:27:25.287949Z",
     "shell.execute_reply": "2025-06-30T21:27:25.287098Z",
     "shell.execute_reply.started": "2025-06-30T21:27:25.282453Z"
    }
   },
   "source": [
    "Is it different from Q3? If yes, why?"
   ]
  },
  {
   "cell_type": "markdown",
   "id": "93ff79ab-f033-4e31-b7b9-8f490ae4d672",
   "metadata": {},
   "source": [
    "The value of field `question` provide values that affect the result. "
   ]
  },
  {
   "cell_type": "markdown",
   "id": "666bc58f-1450-4c26-91e6-a5a90d62cd9a",
   "metadata": {},
   "source": [
    "## Q5. Selecting the embedding model\n",
    "\n",
    "Now let's select a smaller embedding model.\n",
    "What's the smallest dimensionality for models in fastembed?\n",
    "\n",
    "- 128\n",
    "- 256\n",
    "- 384  <--\n",
    "- 512\n",
    "\n",
    "One of these models is `BAAI/bge-small-en`. Let's use it."
   ]
  },
  {
   "cell_type": "code",
   "execution_count": 29,
   "id": "4e0b618c-1051-498f-b775-62c5d25cf1b8",
   "metadata": {
    "execution": {
     "iopub.execute_input": "2025-06-30T21:31:41.824158Z",
     "iopub.status.busy": "2025-06-30T21:31:41.823817Z",
     "iopub.status.idle": "2025-06-30T21:31:41.828820Z",
     "shell.execute_reply": "2025-06-30T21:31:41.828212Z",
     "shell.execute_reply.started": "2025-06-30T21:31:41.824136Z"
    }
   },
   "outputs": [
    {
     "name": "stdout",
     "output_type": "stream",
     "text": [
      "{\n",
      "  \"model\": \"BAAI/bge-base-en\",\n",
      "  \"sources\": {\n",
      "    \"hf\": \"Qdrant/fast-bge-base-en\",\n",
      "    \"url\": \"https://storage.googleapis.com/qdrant-fastembed/fast-bge-base-en.tar.gz\",\n",
      "    \"_deprecated_tar_struct\": true\n",
      "  },\n",
      "  \"model_file\": \"model_optimized.onnx\",\n",
      "  \"description\": \"Text embeddings, Unimodal (text), English, 512 input tokens truncation, Prefixes for queries/documents: necessary, 2023 year.\",\n",
      "  \"license\": \"mit\",\n",
      "  \"size_in_GB\": 0.42,\n",
      "  \"additional_files\": [],\n",
      "  \"dim\": 768,\n",
      "  \"tasks\": {}\n",
      "}\n",
      "{\n",
      "  \"model\": \"BAAI/bge-small-en\",\n",
      "  \"sources\": {\n",
      "    \"hf\": \"Qdrant/bge-small-en\",\n",
      "    \"url\": \"https://storage.googleapis.com/qdrant-fastembed/BAAI-bge-small-en.tar.gz\",\n",
      "    \"_deprecated_tar_struct\": true\n",
      "  },\n",
      "  \"model_file\": \"model_optimized.onnx\",\n",
      "  \"description\": \"Text embeddings, Unimodal (text), English, 512 input tokens truncation, Prefixes for queries/documents: necessary, 2023 year.\",\n",
      "  \"license\": \"mit\",\n",
      "  \"size_in_GB\": 0.13,\n",
      "  \"additional_files\": [],\n",
      "  \"dim\": 384,\n",
      "  \"tasks\": {}\n",
      "}\n"
     ]
    }
   ],
   "source": [
    "import json\n",
    "\n",
    "EMBEDDING_DIMENSIONALITY = 65536\n",
    "\n",
    "for model in TextEmbedding.list_supported_models():\n",
    "    if model[\"dim\"] < EMBEDDING_DIMENSIONALITY:\n",
    "        print(json.dumps(model, indent=2))\n",
    "        EMBEDDING_DIMENSIONALITY = model[\"dim\"]"
   ]
  },
  {
   "cell_type": "markdown",
   "id": "8e2a6157-0382-46e6-8b6c-06834d6c82a2",
   "metadata": {},
   "source": [
    "## Q6. Indexing with qdrant (2 points)\n",
    "\n",
    "For the last question, we will use more documents.\n",
    "\n",
    "We will select only FAQ records from our ml zoomcamp:\n",
    "\n",
    "```python\n",
    "import requests \n",
    "\n",
    "docs_url = 'https://github.com/alexeygrigorev/llm-rag-workshop/raw/main/notebooks/documents.json'\n",
    "docs_response = requests.get(docs_url)\n",
    "documents_raw = docs_response.json()\n",
    "\n",
    "\n",
    "documents = []\n",
    "\n",
    "for course in documents_raw:\n",
    "    course_name = course['course']\n",
    "    if course_name != 'machine-learning-zoomcamp':\n",
    "        continue\n",
    "\n",
    "    for doc in course['documents']:\n",
    "        doc['course'] = course_name\n",
    "        documents.append(doc)\n",
    "```\n",
    "\n",
    "Add them to qdrant using the model form Q5.\n",
    "\n",
    "When adding the data, use both question and answer fields:\n",
    "\n",
    "```python\n",
    "text = doc['question'] + ' ' + doc['text']\n",
    "```\n",
    "\n",
    "After the data is inserted, use the question from Q1 for querying the collection."
   ]
  },
  {
   "cell_type": "code",
   "execution_count": 46,
   "id": "4a93c7bf-a3ea-462a-a2f8-28804cc781f8",
   "metadata": {
    "execution": {
     "iopub.execute_input": "2025-06-30T21:45:28.106293Z",
     "iopub.status.busy": "2025-06-30T21:45:28.105838Z",
     "iopub.status.idle": "2025-06-30T21:45:28.109883Z",
     "shell.execute_reply": "2025-06-30T21:45:28.109174Z",
     "shell.execute_reply.started": "2025-06-30T21:45:28.106260Z"
    }
   },
   "outputs": [],
   "source": [
    "from qdrant_client import QdrantClient, models"
   ]
  },
  {
   "cell_type": "code",
   "execution_count": 47,
   "id": "6762715c-1a49-4238-aa8a-a3e768051df7",
   "metadata": {
    "execution": {
     "iopub.execute_input": "2025-06-30T21:45:28.860857Z",
     "iopub.status.busy": "2025-06-30T21:45:28.860387Z",
     "iopub.status.idle": "2025-06-30T21:45:29.476896Z",
     "shell.execute_reply": "2025-06-30T21:45:29.476181Z",
     "shell.execute_reply.started": "2025-06-30T21:45:28.860830Z"
    }
   },
   "outputs": [],
   "source": [
    "import requests \n",
    "\n",
    "docs_url = 'https://github.com/alexeygrigorev/llm-rag-workshop/raw/main/notebooks/documents.json'\n",
    "docs_response = requests.get(docs_url)\n",
    "documents_raw = docs_response.json()\n",
    "\n",
    "\n",
    "documents = []\n",
    "\n",
    "for course in documents_raw:\n",
    "    course_name = course['course']\n",
    "    if course_name != 'machine-learning-zoomcamp':\n",
    "        continue\n",
    "\n",
    "    for doc in course['documents']:\n",
    "        doc['course'] = course_name\n",
    "        documents.append(doc)"
   ]
  },
  {
   "cell_type": "code",
   "execution_count": 48,
   "id": "e93539aa-7a2a-4085-a2c6-58e2fcadcc0d",
   "metadata": {
    "execution": {
     "iopub.execute_input": "2025-06-30T21:45:29.800091Z",
     "iopub.status.busy": "2025-06-30T21:45:29.799694Z",
     "iopub.status.idle": "2025-06-30T21:45:29.803287Z",
     "shell.execute_reply": "2025-06-30T21:45:29.802519Z",
     "shell.execute_reply.started": "2025-06-30T21:45:29.800064Z"
    }
   },
   "outputs": [],
   "source": [
    "model_handle = \"BAAI/bge-small-en\""
   ]
  },
  {
   "cell_type": "code",
   "execution_count": 49,
   "id": "8a0003b8-28f4-4910-bf3c-9f4b98f5ba22",
   "metadata": {
    "execution": {
     "iopub.execute_input": "2025-06-30T21:45:30.344216Z",
     "iopub.status.busy": "2025-06-30T21:45:30.343837Z",
     "iopub.status.idle": "2025-06-30T21:45:30.396355Z",
     "shell.execute_reply": "2025-06-30T21:45:30.396017Z",
     "shell.execute_reply.started": "2025-06-30T21:45:30.344195Z"
    }
   },
   "outputs": [],
   "source": [
    "client = QdrantClient(\"http://localhost:6333\") #connecting to local Qdrant instance"
   ]
  },
  {
   "cell_type": "code",
   "execution_count": 50,
   "id": "db9ae84c-5c9b-435c-9bad-44d89e1f113f",
   "metadata": {
    "execution": {
     "iopub.execute_input": "2025-06-30T21:45:31.772438Z",
     "iopub.status.busy": "2025-06-30T21:45:31.772053Z",
     "iopub.status.idle": "2025-06-30T21:45:31.903922Z",
     "shell.execute_reply": "2025-06-30T21:45:31.903439Z",
     "shell.execute_reply.started": "2025-06-30T21:45:31.772415Z"
    }
   },
   "outputs": [
    {
     "data": {
      "text/plain": [
       "True"
      ]
     },
     "execution_count": 50,
     "metadata": {},
     "output_type": "execute_result"
    }
   ],
   "source": [
    "# Define the collection name\n",
    "collection_name = \"zoomcamp-hw\"\n",
    "\n",
    "# Create the collection with specified vector parameters\n",
    "client.create_collection(\n",
    "    collection_name=collection_name,\n",
    "    vectors_config=models.VectorParams(\n",
    "        size=EMBEDDING_DIMENSIONALITY,  # Dimensionality of the vectors\n",
    "        distance=models.Distance.COSINE  # Distance metric for similarity search\n",
    "    )\n",
    ")"
   ]
  },
  {
   "cell_type": "code",
   "execution_count": 51,
   "id": "eb85fc70-584b-48e5-8ba7-e19a7d9cecee",
   "metadata": {
    "execution": {
     "iopub.execute_input": "2025-06-30T21:45:32.921756Z",
     "iopub.status.busy": "2025-06-30T21:45:32.921348Z",
     "iopub.status.idle": "2025-06-30T21:45:32.926171Z",
     "shell.execute_reply": "2025-06-30T21:45:32.925162Z",
     "shell.execute_reply.started": "2025-06-30T21:45:32.921730Z"
    }
   },
   "outputs": [],
   "source": [
    "def search(query, limit=1):\n",
    "\n",
    "    results = client.query_points(\n",
    "        collection_name=collection_name,\n",
    "        query=models.Document( #embed the query text locally with \"jinaai/jina-embeddings-v2-small-en\"\n",
    "            text=query,\n",
    "            model=model_handle \n",
    "        ),\n",
    "        limit=limit, # top closest matches\n",
    "        with_payload=True #to get metadata in the results\n",
    "    )\n",
    "\n",
    "    return results"
   ]
  },
  {
   "cell_type": "code",
   "execution_count": 52,
   "id": "01cc0e81-4849-48de-b55f-37df8edabd07",
   "metadata": {
    "execution": {
     "iopub.execute_input": "2025-06-30T21:45:35.113186Z",
     "iopub.status.busy": "2025-06-30T21:45:35.112821Z",
     "iopub.status.idle": "2025-06-30T21:45:35.138144Z",
     "shell.execute_reply": "2025-06-30T21:45:35.137760Z",
     "shell.execute_reply.started": "2025-06-30T21:45:35.113164Z"
    }
   },
   "outputs": [],
   "source": [
    "points = []\n",
    "id = 0\n",
    "\n",
    "for course in documents_raw:\n",
    "    for doc in course['documents']:\n",
    "\n",
    "        point = models.PointStruct(\n",
    "            id=id,\n",
    "            vector=models.Document(text=doc['text'], model=model_handle), #embed text locally with \"jinaai/jina-embeddings-v2-small-en\" from FastEmbed\n",
    "            payload={\n",
    "                \"text\": doc['text'],\n",
    "                \"section\": doc['section'],\n",
    "                \"course\": course['course']\n",
    "            } #save all needed metadata fields\n",
    "        )\n",
    "        points.append(point)\n",
    "\n",
    "        id += 1"
   ]
  },
  {
   "cell_type": "code",
   "execution_count": 53,
   "id": "e0977f07-2519-44bf-9b2c-45874f0c5a3e",
   "metadata": {
    "execution": {
     "iopub.execute_input": "2025-06-30T21:45:36.257560Z",
     "iopub.status.busy": "2025-06-30T21:45:36.257229Z",
     "iopub.status.idle": "2025-06-30T21:46:34.847875Z",
     "shell.execute_reply": "2025-06-30T21:46:34.847426Z",
     "shell.execute_reply.started": "2025-06-30T21:45:36.257539Z"
    }
   },
   "outputs": [
    {
     "data": {
      "text/plain": [
       "UpdateResult(operation_id=0, status=<UpdateStatus.COMPLETED: 'completed'>)"
      ]
     },
     "execution_count": 53,
     "metadata": {},
     "output_type": "execute_result"
    }
   ],
   "source": [
    "client.upsert(\n",
    "    collection_name=collection_name,\n",
    "    points=points\n",
    ")"
   ]
  },
  {
   "cell_type": "code",
   "execution_count": 54,
   "id": "5fb1e3bf-86d0-459f-96a3-1fd80df0f39e",
   "metadata": {
    "execution": {
     "iopub.execute_input": "2025-06-30T21:46:34.848817Z",
     "iopub.status.busy": "2025-06-30T21:46:34.848643Z",
     "iopub.status.idle": "2025-06-30T21:46:34.865718Z",
     "shell.execute_reply": "2025-06-30T21:46:34.865365Z",
     "shell.execute_reply.started": "2025-06-30T21:46:34.848807Z"
    }
   },
   "outputs": [
    {
     "data": {
      "text/plain": [
       "QueryResponse(points=[ScoredPoint(id=497, version=0, score=0.86619794, payload={'text': 'Yes, you can. We will also do that next week, so don’t worry, you will learn how to do it.', 'section': '2. Machine Learning for Regression', 'course': 'machine-learning-zoomcamp'}, vector=None, shard_key=None, order_value=None)])"
      ]
     },
     "execution_count": 54,
     "metadata": {},
     "output_type": "execute_result"
    }
   ],
   "source": [
    "search(query_text)"
   ]
  },
  {
   "cell_type": "markdown",
   "id": "48e8f0e9-95be-4af0-a500-4d207fccbd67",
   "metadata": {},
   "source": [
    "What's the highest score in the results?\n",
    "(The score for the first returned record):\n",
    "\n",
    "- 0.97\n",
    "- 0.87  <--\n",
    "- 0.77\n",
    "- 0.67"
   ]
  },
  {
   "cell_type": "markdown",
   "id": "d0d9a320-90e8-4fa7-99a4-0b49e612d431",
   "metadata": {},
   "source": [
    "## Submit the results\n",
    "\n",
    "* Submit your results here: https://courses.datatalks.club/llm-zoomcamp-2025/homework/hw2\n",
    "* It's possible that your answers won't match exactly. If it's the case, select the closest one."
   ]
  }
 ],
 "metadata": {
  "kernelspec": {
   "display_name": "Python 3 (ipykernel)",
   "language": "python",
   "name": "python3"
  },
  "language_info": {
   "codemirror_mode": {
    "name": "ipython",
    "version": 3
   },
   "file_extension": ".py",
   "mimetype": "text/x-python",
   "name": "python",
   "nbconvert_exporter": "python",
   "pygments_lexer": "ipython3",
   "version": "3.13.5"
  }
 },
 "nbformat": 4,
 "nbformat_minor": 5
}
